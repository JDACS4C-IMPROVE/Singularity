{
 "cells": [
  {
   "cell_type": "code",
   "execution_count": 1,
   "id": "e7352f1d",
   "metadata": {},
   "outputs": [
    {
     "name": "stderr",
     "output_type": "stream",
     "text": [
      "2022-07-06 12:36:57.281601: I tensorflow/stream_executor/platform/default/dso_loader.cc:49] Successfully opened dynamic library libcudart.so.10.1\n"
     ]
    },
    {
     "name": "stdout",
     "output_type": "stream",
     "text": [
      "Importing candle utils for keras\n"
     ]
    }
   ],
   "source": [
    "import candle\n",
    "import os\n",
    "\n",
    "# this is set in the user environment, just documenting it here\n",
    "os.environ['CANDLE_DATA_DIR'] = '/homes/brettin/Singularity/workspace/data_dir/'\n",
    "\n",
    "# this does not work in jupyter\n",
    "# file_path = os.path.dirname(os.path.realpath(__file__))\n",
    "file_path = \"/homes/brettin/Singularity/workspace/HiDRA\""
   ]
  },
  {
   "cell_type": "code",
   "execution_count": 2,
   "id": "fb7c65f4",
   "metadata": {},
   "outputs": [],
   "source": [
    "# add keywords (command line args) that are not supported in candle.parsing_utils\n",
    "additional_definitions = [\n",
    "    {'name':'new_keyword',\n",
    "     'type':str,\n",
    "     'nargs':1,\n",
    "     'help':'helpful description'\n",
    "    }\n",
    "]\n",
    "required = None\n",
    "\n",
    "# experimental\n",
    "supported_definitions = ['data_url','train_data','val_data','shuffle','feature_subsample']"
   ]
  },
  {
   "cell_type": "code",
   "execution_count": 3,
   "id": "73e294a9",
   "metadata": {},
   "outputs": [],
   "source": [
    "# imported from candle_lib/candle/benchmark_def.py\n",
    "class PreProcessor(candle.Benchmark):\n",
    "\n",
    "    def set_locals(self):\n",
    "        if required is not None:\n",
    "            self.required = set(required)\n",
    "        if additional_definitions is not None:\n",
    "            self.additional_definitions = additional_definitions"
   ]
  },
  {
   "cell_type": "code",
   "execution_count": 4,
   "id": "d4d80d86",
   "metadata": {},
   "outputs": [],
   "source": [
    "def initialize_parameters():\n",
    "    preprocessor_bmk = PreProcessor(file_path,\n",
    "        'data_default_params.txt',\n",
    "        'keras',\n",
    "        prog='preprocessor',\n",
    "        desc='Data Preprocessor'\n",
    "    )\n",
    "\n",
    "    # Initialize parameters\n",
    "    # imported from candle_lib/candle/parsing_utils.py\n",
    "    gParameters = candle.finalize_parameters(preprocessor_bmk)\n",
    "\n",
    "    return gParameters"
   ]
  },
  {
   "cell_type": "code",
   "execution_count": 5,
   "id": "bbb49600",
   "metadata": {},
   "outputs": [
    {
     "name": "stderr",
     "output_type": "stream",
     "text": [
      "usage: preprocessor [-h] [--config_file CONFIG_FILE] [-d {f16,f32,f64}]\n",
      "                    [-r RNG_SEED] [--train_bool TRAIN_BOOL]\n",
      "                    [--eval_bool EVAL_BOOL] [--timeout TIMEOUT]\n",
      "                    [--gpus GPUS [GPUS ...]] [-p PROFILING] [-s SAVE_PATH]\n",
      "                    [--model_name MODEL_NAME] [--home_dir HOME_DIR]\n",
      "                    [--train_data TRAIN_DATA] [--val_data VAL_DATA]\n",
      "                    [--test_data TEST_DATA] [--output_dir OUTPUT_DIR]\n",
      "                    [--data_url DATA_URL] [--experiment_id EXPERIMENT_ID]\n",
      "                    [--run_id RUN_ID] [-v VERBOSE] [-l LOGFILE]\n",
      "                    [--scaling {minabs,minmax,std,none}] [--shuffle SHUFFLE]\n",
      "                    [--feature_subsample FEATURE_SUBSAMPLE]\n",
      "                    [--dense DENSE [DENSE ...]] [--conv CONV [CONV ...]]\n",
      "                    [--locally_connected LOCALLY_CONNECTED] [-a ACTIVATION]\n",
      "                    [--out_activation OUT_ACTIVATION]\n",
      "                    [--lstm_size LSTM_SIZE [LSTM_SIZE ...]]\n",
      "                    [--recurrent_dropout RECURRENT_DROPOUT]\n",
      "                    [--dropout DROPOUT] [--pool POOL]\n",
      "                    [--batch_normalization BATCH_NORMALIZATION] [--loss LOSS]\n",
      "                    [--optimizer OPTIMIZER] [--metrics METRICS] [-e EPOCHS]\n",
      "                    [-z BATCH_SIZE] [-lr LEARNING_RATE]\n",
      "                    [--early_stop EARLY_STOP] [--momentum MOMENTUM]\n",
      "                    [--initialization {constant,uniform,normal,glorot_uniform,glorot_normal,lecun_uniform,he_normal}]\n",
      "                    [--val_split VAL_SPLIT] [--train_steps TRAIN_STEPS]\n",
      "                    [--val_steps VAL_STEPS] [--test_steps TEST_STEPS]\n",
      "                    [--train_samples TRAIN_SAMPLES]\n",
      "                    [--val_samples VAL_SAMPLES] [--clr_flag CLR_FLAG]\n",
      "                    [--clr_mode {trng1,trng2,exp}] [--clr_base_lr CLR_BASE_LR]\n",
      "                    [--clr_max_lr CLR_MAX_LR] [--clr_gamma CLR_GAMMA]\n",
      "                    [--ckpt_restart_mode {off,auto,required}]\n",
      "                    [--ckpt_checksum CKPT_CHECKSUM]\n",
      "                    [--ckpt_skip_epochs CKPT_SKIP_EPOCHS]\n",
      "                    [--ckpt_directory CKPT_DIRECTORY]\n",
      "                    [--ckpt_save_best CKPT_SAVE_BEST]\n",
      "                    [--ckpt_save_best_metric CKPT_SAVE_BEST_METRIC]\n",
      "                    [--ckpt_save_weights_only CKPT_SAVE_WEIGHTS_ONLY]\n",
      "                    [--ckpt_save_interval CKPT_SAVE_INTERVAL]\n",
      "                    [--ckpt_keep_mode {linear,exponential}]\n",
      "                    [--ckpt_keep_limit CKPT_KEEP_LIMIT]\n",
      "                    [--new_keyword NEW_KEYWORD]\n",
      "preprocessor: error: unrecognized arguments: -f /lambda_stor/homes/brettin/.local/share/jupyter/runtime/kernel-c3eead96-1f17-4189-b7f0-1132158b8881.json\n"
     ]
    },
    {
     "ename": "SystemExit",
     "evalue": "2",
     "output_type": "error",
     "traceback": [
      "An exception has occurred, use %tb to see the full traceback.\n",
      "\u001b[0;31mSystemExit\u001b[0m\u001b[0;31m:\u001b[0m 2\n"
     ]
    },
    {
     "name": "stderr",
     "output_type": "stream",
     "text": [
      "/homes/brettin/anaconda3/envs/candle_td2x/lib/python3.7/site-packages/IPython/core/interactiveshell.py:3465: UserWarning: To exit: use 'exit', 'quit', or Ctrl-D.\n",
      "  warn(\"To exit: use 'exit', 'quit', or Ctrl-D.\", stacklevel=1)\n"
     ]
    }
   ],
   "source": [
    "def run(params):\n",
    "    # fetch data\n",
    "    # preprocess data\n",
    "    # save preprocessed data\n",
    "    # define callbacks\n",
    "    # build / compile model\n",
    "    # train model\n",
    "    # infer using model\n",
    "    # etc\n",
    "    print(\"add community model code here\")\n",
    "\n",
    "def main():\n",
    "    params = initialize_parameters()\n",
    "    run(params)\n",
    "\n",
    "\n",
    "if __name__ == \"__main__\":\n",
    "    main()\n",
    "    if K.backend() == \"tensorflow\":\n",
    "        K.clear_session()\n",
    "        \n"
   ]
  },
  {
   "cell_type": "code",
   "execution_count": null,
   "id": "662b0d1b",
   "metadata": {},
   "outputs": [],
   "source": []
  }
 ],
 "metadata": {
  "kernelspec": {
   "display_name": "Python 3 (ipykernel)",
   "language": "python",
   "name": "python3"
  },
  "language_info": {
   "codemirror_mode": {
    "name": "ipython",
    "version": 3
   },
   "file_extension": ".py",
   "mimetype": "text/x-python",
   "name": "python",
   "nbconvert_exporter": "python",
   "pygments_lexer": "ipython3",
   "version": "3.7.11"
  }
 },
 "nbformat": 4,
 "nbformat_minor": 5
}
